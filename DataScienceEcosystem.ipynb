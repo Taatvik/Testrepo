{
 "cells": [
  {
   "cell_type": "markdown",
   "id": "d6ab536f",
   "metadata": {},
   "source": [
    "# Data Science Tools and Ecosystem"
   ]
  },
  {
   "cell_type": "markdown",
   "id": "c6cc9508",
   "metadata": {},
   "source": [
    "## In this notebook, Data science Tools and Ecosystems are summarized"
   ]
  },
  {
   "cell_type": "markdown",
   "id": "3c225bb3",
   "metadata": {},
   "source": [
    "Some of the popular languages that Data scientists use are:\n",
    "\n",
    "1. Python\n",
    "2. R\n",
    "3. SQL\n",
    "4. Julia\n",
    "5. Scala"
   ]
  },
  {
   "cell_type": "markdown",
   "id": "b40f4720",
   "metadata": {},
   "source": [
    "Some of the commonly used libraries used by Data scientists include :\n",
    "    \n",
    "1. Numpy\n",
    "\n",
    "2. Pandas\n",
    "\n",
    "3. Matplotlib\n",
    "\n",
    "4. Scikit-learn \n",
    "\n",
    "5. Tensorflow"
   ]
  },
  {
   "cell_type": "markdown",
   "id": "e13cd688",
   "metadata": {},
   "source": [
    "| Data Science Tools |\n",
    "|--------------------|\n",
    "| Jupyter Notebook   |\n",
    "| RStudio            |\n",
    "| Apache Zeppelin    |"
   ]
  },
  {
   "cell_type": "markdown",
   "id": "d6711fbf",
   "metadata": {},
   "source": [
    "### Below are a few examples of evaluating expressions in Python:"
   ]
  },
  {
   "cell_type": "code",
   "execution_count": 6,
   "id": "305cc73b",
   "metadata": {},
   "outputs": [
    {
     "data": {
      "text/plain": [
       "17"
      ]
     },
     "execution_count": 6,
     "metadata": {},
     "output_type": "execute_result"
    }
   ],
   "source": [
    "(3*4)+5\n",
    "#This is a simple arthimetic expression to multiply then add integers\n"
   ]
  },
  {
   "cell_type": "code",
   "execution_count": 8,
   "id": "501f6dbe",
   "metadata": {},
   "outputs": [
    {
     "name": "stdout",
     "output_type": "stream",
     "text": [
      "3.3333333333333335\n"
     ]
    }
   ],
   "source": [
    "minutes = 200\n",
    "hours = minutes/60\n",
    "print(hours)\n",
    "#This will convert 200 minutes to hours by dividing by 60"
   ]
  },
  {
   "cell_type": "markdown",
   "id": "e6936460",
   "metadata": {},
   "source": [
    "**Objectives:**\n",
    "*  Some of the popular languages data scientists use are\n",
    "*  Some of the commonly used libraries \n",
    "*  Evaluating expressions in Python\n",
    "\n"
   ]
  },
  {
   "cell_type": "markdown",
   "id": "73de5a46",
   "metadata": {},
   "source": [
    "## Author\n",
    "Taatvik"
   ]
  },
  {
   "cell_type": "code",
   "execution_count": null,
   "id": "c54b200e",
   "metadata": {},
   "outputs": [],
   "source": []
  }
 ],
 "metadata": {
  "kernelspec": {
   "display_name": "Python 3",
   "language": "python",
   "name": "python3"
  },
  "language_info": {
   "codemirror_mode": {
    "name": "ipython",
    "version": 3
   },
   "file_extension": ".py",
   "mimetype": "text/x-python",
   "name": "python",
   "nbconvert_exporter": "python",
   "pygments_lexer": "ipython3",
   "version": "3.8.8"
  }
 },
 "nbformat": 4,
 "nbformat_minor": 5
}
